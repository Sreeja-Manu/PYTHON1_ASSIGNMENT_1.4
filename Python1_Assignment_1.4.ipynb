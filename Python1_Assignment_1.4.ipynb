{
 "cells": [
  {
   "cell_type": "markdown",
   "metadata": {},
   "source": [
    "### 1.4 Program to find the volume of a sphere with diameter 12cm."
   ]
  },
  {
   "cell_type": "code",
   "execution_count": 1,
   "metadata": {},
   "outputs": [
    {
     "name": "stdout",
     "output_type": "stream",
     "text": [
      "Diameter of the sphere= 12cm\n",
      "Radius= Diameter/2=  6.0\n",
      "Volume of the sphere=  904.7786842338603\n",
      "Volume rounded to 3 decimal places:  904.779\n"
     ]
    }
   ],
   "source": [
    "from math import pi\n",
    "d=float(12)\n",
    "r = float(d/2)\n",
    "V= float(((4/3)*pi*(r**3)))\n",
    "print(\"Diameter of the sphere= 12cm\")\n",
    "print(\"Radius= Diameter/2= \",+r)\n",
    "print(\"Volume of the sphere= \",+V)\n",
    "rd=round(V,3)\n",
    "print(\"Volume rounded to 3 decimal places: \",+rd)"
   ]
  },
  {
   "cell_type": "code",
   "execution_count": null,
   "metadata": {},
   "outputs": [],
   "source": []
  }
 ],
 "metadata": {
  "kernelspec": {
   "display_name": "Python 3",
   "language": "python",
   "name": "python3"
  },
  "language_info": {
   "codemirror_mode": {
    "name": "ipython",
    "version": 3
   },
   "file_extension": ".py",
   "mimetype": "text/x-python",
   "name": "python",
   "nbconvert_exporter": "python",
   "pygments_lexer": "ipython3",
   "version": "3.7.0"
  }
 },
 "nbformat": 4,
 "nbformat_minor": 2
}
